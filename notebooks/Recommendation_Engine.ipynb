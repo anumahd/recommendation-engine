{
 "cells": [
  {
   "cell_type": "code",
   "execution_count": 1,
   "id": "d751a44a",
   "metadata": {},
   "outputs": [],
   "source": [
    "# 📦 Import required libraries\n",
    "import pyodbc # for commecting to sql\n",
    "import pandas as pd\n",
    "import numpy as np\n",
    "from datetime import datetime, timedelta\n",
    "from datetime import date\n",
    "from matplotlib import dates as dates\n",
    "import datetime as dt\n",
    "import pyodbc\n",
    "import pandas as pd\n",
    "import numpy as np\n",
    "from matplotlib import pyplot as plt\n",
    "from matplotlib import rcParams\n",
    "import pandas as pd\n",
    "import scipy.sparse as sparse\n",
    "import numpy as np\n",
    "from scipy.sparse.linalg import spsolve\n",
    "import implicit"
   ]
  },
  {
   "cell_type": "code",
   "execution_count": 3,
   "id": "60d3f2f1",
   "metadata": {},
   "outputs": [
    {
     "name": "stderr",
     "output_type": "stream",
     "text": [
      "C:\\Users\\anuma\\AppData\\Local\\Temp\\ipykernel_2652\\1842265064.py:6: UserWarning: pandas only supports SQLAlchemy connectable (engine/connection) or database string URI or sqlite3 DBAPI2 connection. Other DBAPI2 objects are not tested. Please consider using SQLAlchemy.\n",
      "  sale = pd.read_sql(sql_for_df , conn)\n"
     ]
    }
   ],
   "source": [
    "# 🔌 Connect to the database and query data\n",
    "conn = pyodbc.connect('Driver={SQL Server};'\n",
    "'Server=DESKTOP-MB976LQ;'\n",
    "'Database=AdventureWorksDW2017;'\n",
    "'Trusted_Connection=yes;')\n",
    "sql_for_df = \"select CustomerKey, ProductKey, SalesOrderNumber,SalesAmount as Price,OrderQuantity from dbo.FactInternetSales\"\n",
    "sale = pd.read_sql(sql_for_df , conn)\n",
    "conn.close()"
   ]
  },
  {
   "cell_type": "code",
   "execution_count": 4,
   "id": "085e8463",
   "metadata": {
    "scrolled": false
   },
   "outputs": [
    {
     "data": {
      "text/html": [
       "<div>\n",
       "<style scoped>\n",
       "    .dataframe tbody tr th:only-of-type {\n",
       "        vertical-align: middle;\n",
       "    }\n",
       "\n",
       "    .dataframe tbody tr th {\n",
       "        vertical-align: top;\n",
       "    }\n",
       "\n",
       "    .dataframe thead th {\n",
       "        text-align: right;\n",
       "    }\n",
       "</style>\n",
       "<table border=\"1\" class=\"dataframe\">\n",
       "  <thead>\n",
       "    <tr style=\"text-align: right;\">\n",
       "      <th></th>\n",
       "      <th>CustomerKey</th>\n",
       "      <th>ProductKey</th>\n",
       "      <th>SalesOrderNumber</th>\n",
       "      <th>Price</th>\n",
       "      <th>OrderQuantity</th>\n",
       "    </tr>\n",
       "  </thead>\n",
       "  <tbody>\n",
       "    <tr>\n",
       "      <th>0</th>\n",
       "      <td>21768</td>\n",
       "      <td>310</td>\n",
       "      <td>SO43697</td>\n",
       "      <td>3578.2700</td>\n",
       "      <td>1</td>\n",
       "    </tr>\n",
       "    <tr>\n",
       "      <th>1</th>\n",
       "      <td>28389</td>\n",
       "      <td>346</td>\n",
       "      <td>SO43698</td>\n",
       "      <td>3399.9900</td>\n",
       "      <td>1</td>\n",
       "    </tr>\n",
       "    <tr>\n",
       "      <th>2</th>\n",
       "      <td>25863</td>\n",
       "      <td>346</td>\n",
       "      <td>SO43699</td>\n",
       "      <td>3399.9900</td>\n",
       "      <td>1</td>\n",
       "    </tr>\n",
       "    <tr>\n",
       "      <th>3</th>\n",
       "      <td>14501</td>\n",
       "      <td>336</td>\n",
       "      <td>SO43700</td>\n",
       "      <td>699.0982</td>\n",
       "      <td>1</td>\n",
       "    </tr>\n",
       "    <tr>\n",
       "      <th>4</th>\n",
       "      <td>11003</td>\n",
       "      <td>346</td>\n",
       "      <td>SO43701</td>\n",
       "      <td>3399.9900</td>\n",
       "      <td>1</td>\n",
       "    </tr>\n",
       "  </tbody>\n",
       "</table>\n",
       "</div>"
      ],
      "text/plain": [
       "   CustomerKey  ProductKey SalesOrderNumber      Price  OrderQuantity\n",
       "0        21768         310          SO43697  3578.2700              1\n",
       "1        28389         346          SO43698  3399.9900              1\n",
       "2        25863         346          SO43699  3399.9900              1\n",
       "3        14501         336          SO43700   699.0982              1\n",
       "4        11003         346          SO43701  3399.9900              1"
      ]
     },
     "execution_count": 4,
     "metadata": {},
     "output_type": "execute_result"
    }
   ],
   "source": [
    "# ➕ Code block\n",
    "sale.head()"
   ]
  },
  {
   "cell_type": "code",
   "execution_count": 5,
   "id": "6d78bf89",
   "metadata": {},
   "outputs": [
    {
     "name": "stderr",
     "output_type": "stream",
     "text": [
      "C:\\Users\\anuma\\AppData\\Local\\Temp\\ipykernel_2652\\2370933051.py:6: UserWarning: pandas only supports SQLAlchemy connectable (engine/connection) or database string URI or sqlite3 DBAPI2 connection. Other DBAPI2 objects are not tested. Please consider using SQLAlchemy.\n",
      "  prod = pd.read_sql(sql_for_df , conn)\n"
     ]
    }
   ],
   "source": [
    "# 🔌 Connect to the database and query data\n",
    "conn = pyodbc.connect('Driver={SQL Server};'\n",
    "'Server=DESKTOP-MB976LQ;'\n",
    "'Database=AdventureWorksDW2017;'\n",
    "'Trusted_Connection=yes;')\n",
    "sql_for_df = \"select ProductKey, EnglishProductName as ProductName from dbo.DimProduct\"\n",
    "prod = pd.read_sql(sql_for_df , conn)\n",
    "conn.close()"
   ]
  },
  {
   "cell_type": "code",
   "execution_count": 7,
   "id": "2a6f003c",
   "metadata": {},
   "outputs": [
    {
     "data": {
      "text/html": [
       "<div>\n",
       "<style scoped>\n",
       "    .dataframe tbody tr th:only-of-type {\n",
       "        vertical-align: middle;\n",
       "    }\n",
       "\n",
       "    .dataframe tbody tr th {\n",
       "        vertical-align: top;\n",
       "    }\n",
       "\n",
       "    .dataframe thead th {\n",
       "        text-align: right;\n",
       "    }\n",
       "</style>\n",
       "<table border=\"1\" class=\"dataframe\">\n",
       "  <thead>\n",
       "    <tr style=\"text-align: right;\">\n",
       "      <th></th>\n",
       "      <th>ProductKey</th>\n",
       "      <th>ProductName</th>\n",
       "    </tr>\n",
       "  </thead>\n",
       "  <tbody>\n",
       "    <tr>\n",
       "      <th>0</th>\n",
       "      <td>1</td>\n",
       "      <td>Adjustable Race</td>\n",
       "    </tr>\n",
       "    <tr>\n",
       "      <th>1</th>\n",
       "      <td>2</td>\n",
       "      <td>Bearing Ball</td>\n",
       "    </tr>\n",
       "    <tr>\n",
       "      <th>2</th>\n",
       "      <td>3</td>\n",
       "      <td>BB Ball Bearing</td>\n",
       "    </tr>\n",
       "    <tr>\n",
       "      <th>3</th>\n",
       "      <td>4</td>\n",
       "      <td>Headset Ball Bearings</td>\n",
       "    </tr>\n",
       "    <tr>\n",
       "      <th>4</th>\n",
       "      <td>5</td>\n",
       "      <td>Blade</td>\n",
       "    </tr>\n",
       "  </tbody>\n",
       "</table>\n",
       "</div>"
      ],
      "text/plain": [
       "   ProductKey            ProductName\n",
       "0           1        Adjustable Race\n",
       "1           2           Bearing Ball\n",
       "2           3        BB Ball Bearing\n",
       "3           4  Headset Ball Bearings\n",
       "4           5                  Blade"
      ]
     },
     "execution_count": 7,
     "metadata": {},
     "output_type": "execute_result"
    }
   ],
   "source": [
    "# ➕ Code block\n",
    "prod.head()"
   ]
  },
  {
   "cell_type": "code",
   "execution_count": 8,
   "id": "33219ddc",
   "metadata": {},
   "outputs": [
    {
     "data": {
      "text/html": [
       "<div>\n",
       "<style scoped>\n",
       "    .dataframe tbody tr th:only-of-type {\n",
       "        vertical-align: middle;\n",
       "    }\n",
       "\n",
       "    .dataframe tbody tr th {\n",
       "        vertical-align: top;\n",
       "    }\n",
       "\n",
       "    .dataframe thead th {\n",
       "        text-align: right;\n",
       "    }\n",
       "</style>\n",
       "<table border=\"1\" class=\"dataframe\">\n",
       "  <thead>\n",
       "    <tr style=\"text-align: right;\">\n",
       "      <th></th>\n",
       "      <th>ProductKey</th>\n",
       "      <th>ProductName</th>\n",
       "      <th>CustomerKey</th>\n",
       "      <th>SalesOrderNumber</th>\n",
       "      <th>Price</th>\n",
       "      <th>OrderQuantity</th>\n",
       "    </tr>\n",
       "  </thead>\n",
       "  <tbody>\n",
       "    <tr>\n",
       "      <th>0</th>\n",
       "      <td>214</td>\n",
       "      <td>Sport-100 Helmet, Red</td>\n",
       "      <td>16313</td>\n",
       "      <td>SO51180</td>\n",
       "      <td>34.99</td>\n",
       "      <td>1</td>\n",
       "    </tr>\n",
       "    <tr>\n",
       "      <th>1</th>\n",
       "      <td>214</td>\n",
       "      <td>Sport-100 Helmet, Red</td>\n",
       "      <td>12132</td>\n",
       "      <td>SO51181</td>\n",
       "      <td>34.99</td>\n",
       "      <td>1</td>\n",
       "    </tr>\n",
       "    <tr>\n",
       "      <th>2</th>\n",
       "      <td>214</td>\n",
       "      <td>Sport-100 Helmet, Red</td>\n",
       "      <td>12390</td>\n",
       "      <td>SO51191</td>\n",
       "      <td>34.99</td>\n",
       "      <td>1</td>\n",
       "    </tr>\n",
       "    <tr>\n",
       "      <th>3</th>\n",
       "      <td>214</td>\n",
       "      <td>Sport-100 Helmet, Red</td>\n",
       "      <td>11241</td>\n",
       "      <td>SO51192</td>\n",
       "      <td>34.99</td>\n",
       "      <td>1</td>\n",
       "    </tr>\n",
       "    <tr>\n",
       "      <th>4</th>\n",
       "      <td>214</td>\n",
       "      <td>Sport-100 Helmet, Red</td>\n",
       "      <td>11338</td>\n",
       "      <td>SO51207</td>\n",
       "      <td>34.99</td>\n",
       "      <td>1</td>\n",
       "    </tr>\n",
       "  </tbody>\n",
       "</table>\n",
       "</div>"
      ],
      "text/plain": [
       "   ProductKey            ProductName  CustomerKey SalesOrderNumber  Price  \\\n",
       "0         214  Sport-100 Helmet, Red        16313          SO51180  34.99   \n",
       "1         214  Sport-100 Helmet, Red        12132          SO51181  34.99   \n",
       "2         214  Sport-100 Helmet, Red        12390          SO51191  34.99   \n",
       "3         214  Sport-100 Helmet, Red        11241          SO51192  34.99   \n",
       "4         214  Sport-100 Helmet, Red        11338          SO51207  34.99   \n",
       "\n",
       "   OrderQuantity  \n",
       "0              1  \n",
       "1              1  \n",
       "2              1  \n",
       "3              1  \n",
       "4              1  "
      ]
     },
     "execution_count": 8,
     "metadata": {},
     "output_type": "execute_result"
    }
   ],
   "source": [
    "# 🔗 Merge dataframes to enrich with product names\n",
    "meg = prod.merge(sale, on=\"ProductKey\")\n",
    "meg.head()"
   ]
  },
  {
   "cell_type": "code",
   "execution_count": 9,
   "id": "bf627b64",
   "metadata": {},
   "outputs": [
    {
     "name": "stdout",
     "output_type": "stream",
     "text": [
      "<class 'pandas.core.frame.DataFrame'>\n",
      "Int64Index: 60398 entries, 0 to 60397\n",
      "Data columns (total 6 columns):\n",
      " #   Column            Non-Null Count  Dtype  \n",
      "---  ------            --------------  -----  \n",
      " 0   ProductKey        60398 non-null  int64  \n",
      " 1   ProductName       60398 non-null  object \n",
      " 2   CustomerKey       60398 non-null  int64  \n",
      " 3   SalesOrderNumber  60398 non-null  object \n",
      " 4   Price             60398 non-null  float64\n",
      " 5   OrderQuantity     60398 non-null  int64  \n",
      "dtypes: float64(1), int64(3), object(2)\n",
      "memory usage: 3.2+ MB\n"
     ]
    }
   ],
   "source": [
    "# ➕ Code block\n",
    "meg.info()"
   ]
  },
  {
   "cell_type": "code",
   "execution_count": 10,
   "id": "f8a9d56a",
   "metadata": {},
   "outputs": [
    {
     "data": {
      "text/plain": [
       "(60398, 6)"
      ]
     },
     "execution_count": 10,
     "metadata": {},
     "output_type": "execute_result"
    }
   ],
   "source": [
    "# ➕ Code block\n",
    "meg.shape"
   ]
  },
  {
   "cell_type": "code",
   "execution_count": 11,
   "id": "f21b9ff3",
   "metadata": {},
   "outputs": [],
   "source": [
    "# ➕ Code block\n",
    "#lookup table that keeps track of each item ID along with a description of that item\n",
    "lookUp = meg[['ProductKey', 'ProductName']].drop_duplicates() # Only get unique item/description pairs"
   ]
  },
  {
   "cell_type": "code",
   "execution_count": 10,
   "id": "cf92ff53",
   "metadata": {},
   "outputs": [
    {
     "data": {
      "text/html": [
       "<div>\n",
       "<style scoped>\n",
       "    .dataframe tbody tr th:only-of-type {\n",
       "        vertical-align: middle;\n",
       "    }\n",
       "\n",
       "    .dataframe tbody tr th {\n",
       "        vertical-align: top;\n",
       "    }\n",
       "\n",
       "    .dataframe thead th {\n",
       "        text-align: right;\n",
       "    }\n",
       "</style>\n",
       "<table border=\"1\" class=\"dataframe\">\n",
       "  <thead>\n",
       "    <tr style=\"text-align: right;\">\n",
       "      <th></th>\n",
       "      <th>ProductKey</th>\n",
       "      <th>ProductName</th>\n",
       "    </tr>\n",
       "  </thead>\n",
       "  <tbody>\n",
       "    <tr>\n",
       "      <th>0</th>\n",
       "      <td>214</td>\n",
       "      <td>Sport-100 Helmet, Red</td>\n",
       "    </tr>\n",
       "    <tr>\n",
       "      <th>2230</th>\n",
       "      <td>217</td>\n",
       "      <td>Sport-100 Helmet, Black</td>\n",
       "    </tr>\n",
       "    <tr>\n",
       "      <th>4315</th>\n",
       "      <td>222</td>\n",
       "      <td>Sport-100 Helmet, Blue</td>\n",
       "    </tr>\n",
       "    <tr>\n",
       "      <th>6440</th>\n",
       "      <td>225</td>\n",
       "      <td>AWC Logo Cap</td>\n",
       "    </tr>\n",
       "    <tr>\n",
       "      <th>8630</th>\n",
       "      <td>228</td>\n",
       "      <td>Long-Sleeve Logo Jersey, S</td>\n",
       "    </tr>\n",
       "  </tbody>\n",
       "</table>\n",
       "</div>"
      ],
      "text/plain": [
       "      ProductKey                 ProductName\n",
       "0            214       Sport-100 Helmet, Red\n",
       "2230         217     Sport-100 Helmet, Black\n",
       "4315         222      Sport-100 Helmet, Blue\n",
       "6440         225                AWC Logo Cap\n",
       "8630         228  Long-Sleeve Logo Jersey, S"
      ]
     },
     "execution_count": 10,
     "metadata": {},
     "output_type": "execute_result"
    }
   ],
   "source": [
    "# ➕ Code block\n",
    "lookUp.head()"
   ]
  },
  {
   "cell_type": "code",
   "execution_count": 11,
   "id": "68ccb1c8",
   "metadata": {},
   "outputs": [
    {
     "name": "stdout",
     "output_type": "stream",
     "text": [
      "<class 'pandas.core.frame.DataFrame'>\n",
      "Int64Index: 158 entries, 0 to 60012\n",
      "Data columns (total 2 columns):\n",
      " #   Column       Non-Null Count  Dtype \n",
      "---  ------       --------------  ----- \n",
      " 0   ProductKey   158 non-null    int64 \n",
      " 1   ProductName  158 non-null    object\n",
      "dtypes: int64(1), object(1)\n",
      "memory usage: 3.7+ KB\n"
     ]
    }
   ],
   "source": [
    "# ➕ Code block\n",
    "lookUp.info()"
   ]
  },
  {
   "cell_type": "code",
   "execution_count": 12,
   "id": "9beca784",
   "metadata": {},
   "outputs": [
    {
     "name": "stdout",
     "output_type": "stream",
     "text": [
      "<class 'pandas.core.frame.DataFrame'>\n",
      "Int64Index: 60398 entries, 0 to 60397\n",
      "Data columns (total 6 columns):\n",
      " #   Column            Non-Null Count  Dtype  \n",
      "---  ------            --------------  -----  \n",
      " 0   ProductKey        60398 non-null  int64  \n",
      " 1   ProductName       60398 non-null  object \n",
      " 2   CustomerKey       60398 non-null  int64  \n",
      " 3   SalesOrderNumber  60398 non-null  object \n",
      " 4   Price             60398 non-null  float64\n",
      " 5   OrderQuantity     60398 non-null  int64  \n",
      "dtypes: float64(1), int64(3), object(2)\n",
      "memory usage: 3.2+ MB\n"
     ]
    }
   ],
   "source": [
    "# ➕ Code block\n",
    "meg.info()"
   ]
  },
  {
   "cell_type": "code",
   "execution_count": 13,
   "id": "df0beec4",
   "metadata": {},
   "outputs": [],
   "source": [
    "# ➕ Code block\n",
    "meg = meg[['ProductKey', 'OrderQuantity', 'CustomerKey']] # Get rid of unnecessary info\n",
    "grp = meg.groupby(['CustomerKey', 'ProductKey']).sum().reset_index() # Group together\n",
    "grp.OrderQuantity.loc[grp.OrderQuantity == 0] = 1 # Replace a sum of zero purchases with a one to indicate purchased\n",
    "gp = grp.query('OrderQuantity > 0') # Only get customers where purchase totals were positive"
   ]
  },
  {
   "cell_type": "code",
   "execution_count": 14,
   "id": "91ad3095",
   "metadata": {},
   "outputs": [
    {
     "name": "stdout",
     "output_type": "stream",
     "text": [
      "<class 'pandas.core.frame.DataFrame'>\n",
      "Int64Index: 60398 entries, 0 to 60397\n",
      "Data columns (total 3 columns):\n",
      " #   Column         Non-Null Count  Dtype\n",
      "---  ------         --------------  -----\n",
      " 0   ProductKey     60398 non-null  int64\n",
      " 1   OrderQuantity  60398 non-null  int64\n",
      " 2   CustomerKey    60398 non-null  int64\n",
      "dtypes: int64(3)\n",
      "memory usage: 1.8 MB\n"
     ]
    }
   ],
   "source": [
    "# ➕ Code block\n",
    "meg.info()"
   ]
  },
  {
   "cell_type": "code",
   "execution_count": 15,
   "id": "3f903a6f",
   "metadata": {},
   "outputs": [
    {
     "data": {
      "text/plain": [
       "CustomerKey      int64\n",
       "ProductKey       int64\n",
       "OrderQuantity    int64\n",
       "dtype: object"
      ]
     },
     "execution_count": 15,
     "metadata": {},
     "output_type": "execute_result"
    }
   ],
   "source": [
    "# ➕ Code block\n",
    "grp.dtypes"
   ]
  },
  {
   "cell_type": "code",
   "execution_count": 16,
   "id": "674c739f",
   "metadata": {},
   "outputs": [
    {
     "data": {
      "text/html": [
       "<div>\n",
       "<style scoped>\n",
       "    .dataframe tbody tr th:only-of-type {\n",
       "        vertical-align: middle;\n",
       "    }\n",
       "\n",
       "    .dataframe tbody tr th {\n",
       "        vertical-align: top;\n",
       "    }\n",
       "\n",
       "    .dataframe thead th {\n",
       "        text-align: right;\n",
       "    }\n",
       "</style>\n",
       "<table border=\"1\" class=\"dataframe\">\n",
       "  <thead>\n",
       "    <tr style=\"text-align: right;\">\n",
       "      <th></th>\n",
       "      <th>CustomerKey</th>\n",
       "      <th>ProductKey</th>\n",
       "      <th>OrderQuantity</th>\n",
       "    </tr>\n",
       "  </thead>\n",
       "  <tbody>\n",
       "    <tr>\n",
       "      <th>0</th>\n",
       "      <td>11000</td>\n",
       "      <td>214</td>\n",
       "      <td>1</td>\n",
       "    </tr>\n",
       "    <tr>\n",
       "      <th>1</th>\n",
       "      <td>11000</td>\n",
       "      <td>344</td>\n",
       "      <td>1</td>\n",
       "    </tr>\n",
       "    <tr>\n",
       "      <th>2</th>\n",
       "      <td>11000</td>\n",
       "      <td>353</td>\n",
       "      <td>1</td>\n",
       "    </tr>\n",
       "    <tr>\n",
       "      <th>3</th>\n",
       "      <td>11000</td>\n",
       "      <td>485</td>\n",
       "      <td>1</td>\n",
       "    </tr>\n",
       "    <tr>\n",
       "      <th>4</th>\n",
       "      <td>11000</td>\n",
       "      <td>488</td>\n",
       "      <td>1</td>\n",
       "    </tr>\n",
       "  </tbody>\n",
       "</table>\n",
       "</div>"
      ],
      "text/plain": [
       "   CustomerKey  ProductKey  OrderQuantity\n",
       "0        11000         214              1\n",
       "1        11000         344              1\n",
       "2        11000         353              1\n",
       "3        11000         485              1\n",
       "4        11000         488              1"
      ]
     },
     "execution_count": 16,
     "metadata": {},
     "output_type": "execute_result"
    }
   ],
   "source": [
    "# ➕ Code block\n",
    "gp.head()"
   ]
  },
  {
   "cell_type": "code",
   "execution_count": 17,
   "id": "3f10e582",
   "metadata": {},
   "outputs": [],
   "source": [
    "# 🧮 Create a sparse matrix for recommender system\n",
    "#creating a sparse ratings matrix of users and items\n",
    "\n",
    "customers = list(np.sort(gp.CustomerKey.unique())) # Get our unique customers\n",
    "products = list(gp.ProductKey.unique()) # Get our unique products that were purchased\n",
    "quantity = list(gp.OrderQuantity) # All of our purchases\n",
    "\n",
    "rows = gp.CustomerKey.astype('category').cat.codes \n",
    "\n",
    "# Get the associated row indices\n",
    "cols = gp.ProductKey.astype('category').cat.codes \n",
    "\n",
    "# Get the associated column indices\n",
    "purchases_sparse = sparse.csr_matrix((quantity, (rows, cols)), shape=(len(customers), len(products)))"
   ]
  },
  {
   "cell_type": "code",
   "execution_count": 18,
   "id": "bc2331f7",
   "metadata": {},
   "outputs": [
    {
     "data": {
      "text/plain": [
       "<18484x158 sparse matrix of type '<class 'numpy.intc'>'\n",
       "\twith 59051 stored elements in Compressed Sparse Row format>"
      ]
     },
     "execution_count": 18,
     "metadata": {},
     "output_type": "execute_result"
    }
   ],
   "source": [
    "# ➕ Code block\n",
    "#Let’s check our final matrix object\n",
    "purchases_sparse"
   ]
  },
  {
   "cell_type": "code",
   "execution_count": 52,
   "id": "5c03f21c",
   "metadata": {},
   "outputs": [],
   "source": [
    "# ➕ Code block\n",
    "#this shows we have 18,484 customers with 158 items with a purchase of 59,051!\n",
    "# from other analysis i have done, I know this is correct as IHG does have 18,484 customers"
   ]
  },
  {
   "cell_type": "code",
   "execution_count": 20,
   "id": "eab8b914",
   "metadata": {},
   "outputs": [
    {
     "data": {
      "text/plain": [
       "97.97803231806365"
      ]
     },
     "execution_count": 20,
     "metadata": {},
     "output_type": "execute_result"
    }
   ],
   "source": [
    "# 🧮 Create a sparse matrix for recommender system\n",
    "matrix_size = purchases_sparse.shape[0]*purchases_sparse.shape[1] # Number of possible interactions in the matrix\n",
    "num_purchases = len(purchases_sparse.nonzero()[0]) # Number of items interacted with\n",
    "sparsity = 100*(1 - (num_purchases/matrix_size))\n",
    "sparsity"
   ]
  },
  {
   "cell_type": "code",
   "execution_count": 21,
   "id": "c0a88359",
   "metadata": {},
   "outputs": [],
   "source": [
    "# 📦 Import required libraries\n",
    "import random\n",
    "\n",
    "def make_train(ratings, pct_test = 0.2):\n",
    "\n",
    "    test_set = ratings.copy() # Make a copy of the original set to be the test set. \n",
    "    test_set[test_set != 0] = 1 # Store the test set as a binary preference matrix\n",
    "    training_set = ratings.copy() # Make a copy of the original data we can alter as our training set. \n",
    "    nonzero_inds = training_set.nonzero() # Find the indices in the ratings data where an interaction exists\n",
    "    nonzero_pairs = list(zip(nonzero_inds[0], nonzero_inds[1])) # Zip these pairs together of user,item index into list\n",
    "    random.seed(20) # Set the random seed to zero for reproducibility\n",
    "    num_samples = int(np.ceil(pct_test*len(nonzero_pairs))) # Round the number of samples needed to the nearest integer\n",
    "    samples = random.sample(nonzero_pairs, num_samples) # Sample a random number of user-item pairs without replacement\n",
    "    user_inds = [index[0] for index in samples] # Get the user row indices\n",
    "    item_inds = [index[1] for index in samples] # Get the item column indices\n",
    "    training_set[user_inds, item_inds] = 0 # Assign all of the randomly chosen user-item pairs to zero\n",
    "    training_set.eliminate_zeros() # Get rid of zeros in sparse array storage after update to save space\n",
    "    return training_set, test_set, list(set(user_inds)) # Output the unique list of user rows that were altered  "
   ]
  },
  {
   "cell_type": "code",
   "execution_count": 22,
   "id": "54f7d6cc",
   "metadata": {},
   "outputs": [],
   "source": [
    "# 🧮 Create a sparse matrix for recommender system\n",
    "product_train, product_test, product_users_altered = make_train(purchases_sparse, pct_test = 0.2)"
   ]
  },
  {
   "cell_type": "code",
   "execution_count": 23,
   "id": "e835bbf7",
   "metadata": {},
   "outputs": [],
   "source": [
    "# 🎓 Split data into training and test sets\n",
    "def implicit_weighted_ALS(training_set, lambda_val = 0.1, alpha = 40, iterations = 10, rank_size = 20, seed = 0):\n",
    "\n",
    "    \n",
    "    # first set up our confidence matrix\n",
    "    \n",
    "    conf = (alpha*training_set) # To allow the matrix to stay sparse, I will add one later when each row is taken \n",
    "                                # and converted to dense. \n",
    "    num_user = conf.shape[0]\n",
    "    num_item = conf.shape[1] # Get the size of our original ratings matrix, m x n\n",
    "    \n",
    "    # initialize our X/Y feature vectors randomly with a set seed\n",
    "    rstate = np.random.RandomState(seed)\n",
    "    \n",
    "    X = sparse.csr_matrix(rstate.normal(size = (num_user, rank_size))) # Random numbers in a m x rank shape\n",
    "    Y = sparse.csr_matrix(rstate.normal(size = (num_item, rank_size))) # Normally this would be rank x n but we can \n",
    "                                                                 # transpose at the end. Makes calculation more simple.\n",
    "    X_eye = sparse.eye(num_user)\n",
    "    Y_eye = sparse.eye(num_item)\n",
    "    lambda_eye = lambda_val * sparse.eye(rank_size) # Our regularization term lambda*I. \n",
    "    \n",
    "    # We can compute this before iteration starts.  \n",
    "    # Begin iterations\n",
    "   \n",
    "    for iter_step in range(iterations): # Iterate back and forth between solving X given fixed Y and vice versa\n",
    "        # Compute yTy and xTx at beginning of each iteration to save computing time\n",
    "        yTy = Y.T.dot(Y)\n",
    "        xTx = X.T.dot(X)\n",
    "        # Being iteration to solve for X based on fixed Y\n",
    "        for u in range(num_user):\n",
    "            conf_samp = conf[u,:].toarray() # Grab user row from confidence matrix and convert to dense\n",
    "            pref = conf_samp.copy() \n",
    "            pref[pref != 0] = 1 # Create binarized preference vector \n",
    "            CuI = sparse.diags(conf_samp, [0]) # Get Cu - I term, don't need to subtract 1 since we never added it \n",
    "            yTCuIY = Y.T.dot(CuI).dot(Y) # This is the yT(Cu-I)Y term \n",
    "            yTCupu = Y.T.dot(CuI + Y_eye).dot(pref.T) # This is the yTCuPu term, where we add the eye back in\n",
    "                                                      # Cu - I + I = Cu\n",
    "            X[u] = spsolve(yTy + yTCuIY + lambda_eye, yTCupu) \n",
    "            # Solve for Xu = ((yTy + yT(Cu-I)Y + lambda*I)^-1)yTCuPu, equation 4 from the paper  \n",
    "        # Begin iteration to solve for Y based on fixed X \n",
    "        for i in range(num_item):\n",
    "            conf_samp = conf[:,i].T.toarray() # transpose to get it in row format and convert to dense\n",
    "            pref = conf_samp.copy()\n",
    "            pref[pref != 0] = 1 # Create binarized preference vector\n",
    "            CiI = sparse.diags(conf_samp, [0]) # Get Ci - I term, don't need to subtract 1 since we never added it\n",
    "            xTCiIX = X.T.dot(CiI).dot(X) # This is the xT(Cu-I)X term\n",
    "            xTCiPi = X.T.dot(CiI + X_eye).dot(pref.T) # This is the xTCiPi term\n",
    "            Y[i] = spsolve(xTx + xTCiIX + lambda_eye, xTCiPi)\n",
    "            # Solve for Yi = ((xTx + xT(Cu-I)X) + lambda*I)^-1)xTCiPi, equation 5 from the paper\n",
    "    # End iterations\n",
    "        return X, Y.T\n",
    "\n",
    "# Transpose at the end to make up for not being transposed at the beginning. \n",
    "# Y needs to be rank x n. Keep these as separate matrices for scale reasons. "
   ]
  },
  {
   "cell_type": "code",
   "execution_count": 24,
   "id": "26eb09fe",
   "metadata": {},
   "outputs": [],
   "source": [
    "# 🎓 Split data into training and test sets\n",
    "user_vecs, item_vecs = implicit_weighted_ALS(product_train, lambda_val = 0.1, alpha = 15, iterations = 1,\n",
    "                                            rank_size = 20)"
   ]
  },
  {
   "cell_type": "code",
   "execution_count": 25,
   "id": "9c89e4e0",
   "metadata": {},
   "outputs": [
    {
     "data": {
      "text/plain": [
       "array([ 0.02578946, -0.01339369, -0.01591212, -0.00499155, -0.00279749])"
      ]
     },
     "execution_count": 25,
     "metadata": {},
     "output_type": "execute_result"
    }
   ],
   "source": [
    "# ➕ Code block\n",
    "user_vecs[0,:].dot(item_vecs).toarray()[0,:5]"
   ]
  },
  {
   "cell_type": "code",
   "execution_count": 26,
   "id": "5ec2d05d",
   "metadata": {},
   "outputs": [],
   "source": [
    "# 📦 Import required libraries\n",
    "import implicit"
   ]
  },
  {
   "cell_type": "code",
   "execution_count": 27,
   "id": "99d7ee0c",
   "metadata": {},
   "outputs": [
    {
     "name": "stderr",
     "output_type": "stream",
     "text": [
      "This method is deprecated. Please use the AlternatingLeastSquares class instead\n",
      "WARNING:root:OpenBLAS detected. Its highly recommend to set the environment variable 'export OPENBLAS_NUM_THREADS=1' to disable its internal multithreading\n"
     ]
    },
    {
     "data": {
      "application/vnd.jupyter.widget-view+json": {
       "model_id": "cb3b22e225a44c679d17748d9886207b",
       "version_major": 2,
       "version_minor": 0
      },
      "text/plain": [
       "  0%|          | 0/50 [00:00<?, ?it/s]"
      ]
     },
     "metadata": {},
     "output_type": "display_data"
    }
   ],
   "source": [
    "# ➕ Code block\n",
    "alpha = 40\n",
    "user_vecs, item_vecs = implicit.alternating_least_squares((product_train*alpha).astype('double'), \n",
    "                                                          factors=20, \n",
    "                                                          regularization = 0.1, \n",
    "                                                         iterations = 50)"
   ]
  },
  {
   "cell_type": "markdown",
   "id": "f4d4ffeb",
   "metadata": {},
   "source": [
    "### Evaluating the Recommender System"
   ]
  },
  {
   "cell_type": "code",
   "execution_count": 53,
   "id": "a15f37cc",
   "metadata": {},
   "outputs": [],
   "source": [
    "# 🎓 Split data into training and test sets\n",
    "#training set had 20% of the purchases masked. This will allow us to evaluate the \n",
    "#performance of our recommender \n",
    "#system. Essentially, we need to see if the order of recommendations \n",
    "#given for each user matches the items they ended up purchasing. \n",
    "#A commonly used metric for this kind of problem is the area under the \n",
    "#Receiver Operating Characteristic (or ROC) curve. \n",
    "#A greater area under the curve means we are recommending items that \n",
    "#end up being purchased near the top of the list of \n",
    "#recommended items."
   ]
  },
  {
   "cell_type": "code",
   "execution_count": 51,
   "id": "f08f0a78",
   "metadata": {},
   "outputs": [],
   "source": [
    "# 📦 Import required libraries\n",
    "from sklearn import metrics\n",
    "\n",
    "def auc_score(predictions, test):\n",
    "    '''\n",
    "    This simple function will output the area under the curve using sklearn's metrics. \n",
    "    parameters:\n",
    "    - predictions: your prediction output\n",
    "    - test: the actual target result you are comparing to\n",
    "    returns:\n",
    "    - AUC (area under the Receiver Operating Characterisic curve)\n",
    "    '''\n",
    "    fpr, tpr, thresholds = metrics.roc_curve(test, predictions)\n",
    "    return metrics.auc(fpr, tpr)   "
   ]
  },
  {
   "cell_type": "code",
   "execution_count": 30,
   "id": "68534c45",
   "metadata": {},
   "outputs": [],
   "source": [
    "# 📈 Evaluate model using AUC metric\n",
    "#Now, utilize this helper function inside of a second function that will calculate the AUC for each user \n",
    "#in our training set that had at least one item masked. \n",
    "#It should also calculate AUC for the most popular items for our users to compare.\n",
    "\n",
    "def calc_mean_auc(training_set, altered_users, predictions, test_set):\n",
    "\n",
    "    store_auc = [] # An empty list to store the AUC for each user that had an item removed from the training set\n",
    "    popularity_auc = [] # To store popular AUC scores\n",
    "    pop_items = np.array(test_set.sum(axis = 0)).reshape(-1) # Get sum of item iteractions to find most popular\n",
    "    item_vecs = predictions[1]\n",
    "    for user in altered_users: # Iterate through each user that had an item altered\n",
    "        training_row = training_set[user,:].toarray().reshape(-1) # Get the training set row\n",
    "        zero_inds = np.where(training_row == 0) # Find where the interaction had not yet occurred\n",
    "        # Get the predicted values based on our user/item vectors\n",
    "        user_vec = predictions[0][user,:]\n",
    "        pred = user_vec.dot(item_vecs).toarray()[0,zero_inds].reshape(-1)\n",
    "        # Get only the items that were originally zero\n",
    "        # Select all ratings from the MF prediction for this user that originally had no iteraction\n",
    "        actual = test_set[user,:].toarray()[0,zero_inds].reshape(-1) \n",
    "        # Select the binarized yes/no interaction pairs from the original full data\n",
    "        # that align with the same pairs in training \n",
    "        pop = pop_items[zero_inds] # Get the item popularity for our chosen items\n",
    "        store_auc.append(auc_score(pred, actual)) # Calculate AUC for the given user and store\n",
    "        popularity_auc.append(auc_score(pop, actual)) # Calculate AUC using most popular and score\n",
    "    # End users iteration\n",
    "    \n",
    "    return float('%.3f'%np.mean(store_auc)), float('%.3f'%np.mean(popularity_auc)) \n",
    "\n",
    "\n",
    "# Return the mean AUC rounded to three decimal places for both test and popularity benchmark\n",
    "#We can now use this function to see how our recommender system is doing. \n",
    "#To use this function, we will need to transform our output from the ALS function to csr_matrix \n",
    "#format and transpose the item vectors. The original pure Python version output the user and item vectors into the correct format already."
   ]
  },
  {
   "cell_type": "code",
   "execution_count": 31,
   "id": "65a04594",
   "metadata": {},
   "outputs": [
    {
     "data": {
      "text/plain": [
       "(0.767, 0.831)"
      ]
     },
     "execution_count": 31,
     "metadata": {},
     "output_type": "execute_result"
    }
   ],
   "source": [
    "# 🎓 Split data into training and test sets\n",
    "calc_mean_auc(product_train, product_users_altered, \n",
    "              [sparse.csr_matrix(user_vecs), sparse.csr_matrix(item_vecs.T)], product_test)\n",
    "# AUC for our recommender system"
   ]
  },
  {
   "cell_type": "code",
   "execution_count": 63,
   "id": "57fb448b",
   "metadata": {},
   "outputs": [],
   "source": [
    "# 📦 Import required libraries\n",
    "import numpy as np\n",
    "from sklearn.metrics import mean_squared_log_error\n",
    "\n",
    "def rmse(y_true, y_pred):\n",
    "    np.sqrt(mean_squared_log_error(y_true, y_pred))"
   ]
  },
  {
   "cell_type": "code",
   "execution_count": 64,
   "id": "e07c7747",
   "metadata": {},
   "outputs": [
    {
     "data": {
      "text/plain": [
       "<function __main__.rmse(y_true, y_pred)>"
      ]
     },
     "execution_count": 64,
     "metadata": {},
     "output_type": "execute_result"
    }
   ],
   "source": [
    "# ➕ Code block\n",
    "rmse"
   ]
  },
  {
   "cell_type": "markdown",
   "id": "a1c59081",
   "metadata": {},
   "source": [
    "#### Trying out the code"
   ]
  },
  {
   "cell_type": "code",
   "execution_count": 32,
   "id": "17c1434b",
   "metadata": {},
   "outputs": [],
   "source": [
    "# ➕ Code block\n",
    "customers_arr = np.array(customers) # Array of customer IDs from the ratings matrix\n",
    "products_arr = np.array(products) # Array of product IDs from the ratings matrix"
   ]
  },
  {
   "cell_type": "code",
   "execution_count": 33,
   "id": "9fbca635",
   "metadata": {},
   "outputs": [],
   "source": [
    "# ➕ Code block\n",
    "#Now, we can create a function that will return a list of the \n",
    "#item descriptions from our earlier created item lookup table\n",
    "\n",
    "def get_items_purchased(CustomerKey, mf_train, customers_list, products_list, lookUp):\n",
    "    \n",
    "    cust_ind = np.where(customers_list == CustomerKey)[0][0]    # Returns the index row of our customer id\n",
    "    purchased_ind = mf_train[cust_ind,:].nonzero()[1]        # Get column indices of purchased items\n",
    "    prod_codes = products_list[purchased_ind]              # Get the stock codes for our purchased items\n",
    "    return lookUp.loc[lookUp.ProductKey.isin(prod_codes)]"
   ]
  },
  {
   "cell_type": "code",
   "execution_count": 34,
   "id": "288e71cf",
   "metadata": {},
   "outputs": [
    {
     "data": {
      "text/plain": [
       "array([11000, 11001, 11002, 11003], dtype=int64)"
      ]
     },
     "execution_count": 34,
     "metadata": {},
     "output_type": "execute_result"
    }
   ],
   "source": [
    "# ➕ Code block\n",
    "#We need to look these up by a customer’s ID. Looking at the list of customers:\n",
    "customers_arr[:4]"
   ]
  },
  {
   "cell_type": "code",
   "execution_count": 35,
   "id": "e2b4cb39",
   "metadata": {},
   "outputs": [
    {
     "data": {
      "text/html": [
       "<div>\n",
       "<style scoped>\n",
       "    .dataframe tbody tr th:only-of-type {\n",
       "        vertical-align: middle;\n",
       "    }\n",
       "\n",
       "    .dataframe tbody tr th {\n",
       "        vertical-align: top;\n",
       "    }\n",
       "\n",
       "    .dataframe thead th {\n",
       "        text-align: right;\n",
       "    }\n",
       "</style>\n",
       "<table border=\"1\" class=\"dataframe\">\n",
       "  <thead>\n",
       "    <tr style=\"text-align: right;\">\n",
       "      <th></th>\n",
       "      <th>ProductKey</th>\n",
       "      <th>ProductName</th>\n",
       "    </tr>\n",
       "  </thead>\n",
       "  <tbody>\n",
       "    <tr>\n",
       "      <th>0</th>\n",
       "      <td>214</td>\n",
       "      <td>Sport-100 Helmet, Red</td>\n",
       "    </tr>\n",
       "    <tr>\n",
       "      <th>14901</th>\n",
       "      <td>358</td>\n",
       "      <td>Mountain-200 Black, 38</td>\n",
       "    </tr>\n",
       "    <tr>\n",
       "      <th>16097</th>\n",
       "      <td>362</td>\n",
       "      <td>Mountain-200 Black, 46</td>\n",
       "    </tr>\n",
       "    <tr>\n",
       "      <th>19225</th>\n",
       "      <td>386</td>\n",
       "      <td>Road-550-W Yellow, 42</td>\n",
       "    </tr>\n",
       "    <tr>\n",
       "      <th>38118</th>\n",
       "      <td>486</td>\n",
       "      <td>All-Purpose Bike Stand</td>\n",
       "    </tr>\n",
       "  </tbody>\n",
       "</table>\n",
       "</div>"
      ],
      "text/plain": [
       "       ProductKey             ProductName\n",
       "0             214   Sport-100 Helmet, Red\n",
       "14901         358  Mountain-200 Black, 38\n",
       "16097         362  Mountain-200 Black, 46\n",
       "19225         386   Road-550-W Yellow, 42\n",
       "38118         486  All-Purpose Bike Stand"
      ]
     },
     "execution_count": 35,
     "metadata": {},
     "output_type": "execute_result"
    }
   ],
   "source": [
    "# 🎓 Split data into training and test sets\n",
    "get_items_purchased(11000, product_train, customers_arr, products_arr, lookUp)"
   ]
  },
  {
   "cell_type": "code",
   "execution_count": 36,
   "id": "fd57ff32",
   "metadata": {},
   "outputs": [],
   "source": [
    "# 📦 Import required libraries\n",
    "from sklearn.preprocessing import MinMaxScaler"
   ]
  },
  {
   "cell_type": "code",
   "execution_count": 37,
   "id": "9d0d5c91",
   "metadata": {},
   "outputs": [],
   "source": [
    "# 🎓 Split data into training and test sets\n",
    "def rec_items(customer_id, mf_train, user_vecs, item_vecs, customer_list, item_list, item_lookup, num_items = 10):\n",
    "    \n",
    "    cust_ind = np.where(customer_list == customer_id)[0][0] # Returns the index row of our customer id\n",
    "    pref_vec = mf_train[cust_ind,:].toarray() # Get the ratings from the training set ratings matrix\n",
    "    pref_vec = pref_vec.reshape(-1) + 1 # Add 1 to everything, so that items not purchased yet become equal to 1\n",
    "    pref_vec[pref_vec > 1] = 0 # Make everything already purchased zero\n",
    "    rec_vector = user_vecs[cust_ind,:].dot(item_vecs.T) # Get dot product of user vector and all item vectors\n",
    "    # Scale this recommendation vector between 0 and 1\n",
    "    min_max = MinMaxScaler()\n",
    "    rec_vector_scaled = min_max.fit_transform(rec_vector.reshape(-1,1))[:,0] \n",
    "    recommend_vector = pref_vec*rec_vector_scaled \n",
    "    # Items already purchased have their recommendation multiplied by zero\n",
    "    product_idx = np.argsort(recommend_vector)[::-1][:num_items] # Sort the indices of the items into order \n",
    "    # of best recommendations\n",
    "    rec_list = [] # start empty list to store items\n",
    "    for index in product_idx:\n",
    "        code = item_list[index]\n",
    "        rec_list.append([code, lookUp.ProductName.loc[lookUp.ProductKey == code].iloc[0]]) \n",
    "        # Append our descriptions to the list\n",
    "    codes = [item[0] for item in rec_list]\n",
    "    descriptions = [item[1] for item in rec_list]\n",
    "    final_frame = pd.DataFrame({'StockCode': codes, 'Description': descriptions}) # Create a dataframe \n",
    "    return final_frame[['StockCode', 'Description']] # Switch order of columns around"
   ]
  },
  {
   "cell_type": "code",
   "execution_count": 38,
   "id": "16e67e0f",
   "metadata": {},
   "outputs": [
    {
     "data": {
      "text/html": [
       "<div>\n",
       "<style scoped>\n",
       "    .dataframe tbody tr th:only-of-type {\n",
       "        vertical-align: middle;\n",
       "    }\n",
       "\n",
       "    .dataframe tbody tr th {\n",
       "        vertical-align: top;\n",
       "    }\n",
       "\n",
       "    .dataframe thead th {\n",
       "        text-align: right;\n",
       "    }\n",
       "</style>\n",
       "<table border=\"1\" class=\"dataframe\">\n",
       "  <thead>\n",
       "    <tr style=\"text-align: right;\">\n",
       "      <th></th>\n",
       "      <th>StockCode</th>\n",
       "      <th>Description</th>\n",
       "    </tr>\n",
       "  </thead>\n",
       "  <tbody>\n",
       "    <tr>\n",
       "      <th>0</th>\n",
       "      <td>580</td>\n",
       "      <td>Road-350-W Yellow, 40</td>\n",
       "    </tr>\n",
       "    <tr>\n",
       "      <th>1</th>\n",
       "      <td>583</td>\n",
       "      <td>Road-350-W Yellow, 48</td>\n",
       "    </tr>\n",
       "    <tr>\n",
       "      <th>2</th>\n",
       "      <td>538</td>\n",
       "      <td>LL Road Tire</td>\n",
       "    </tr>\n",
       "  </tbody>\n",
       "</table>\n",
       "</div>"
      ],
      "text/plain": [
       "   StockCode            Description\n",
       "0        580  Road-350-W Yellow, 40\n",
       "1        583  Road-350-W Yellow, 48\n",
       "2        538           LL Road Tire"
      ]
     },
     "execution_count": 38,
     "metadata": {},
     "output_type": "execute_result"
    }
   ],
   "source": [
    "# 🎓 Split data into training and test sets\n",
    "rec_items(11000, product_train, user_vecs, item_vecs, customers_arr, products_arr, lookUp,\n",
    "                       num_items = 3)"
   ]
  },
  {
   "cell_type": "code",
   "execution_count": 39,
   "id": "bb62b74f",
   "metadata": {
    "scrolled": true
   },
   "outputs": [
    {
     "data": {
      "text/html": [
       "<div>\n",
       "<style scoped>\n",
       "    .dataframe tbody tr th:only-of-type {\n",
       "        vertical-align: middle;\n",
       "    }\n",
       "\n",
       "    .dataframe tbody tr th {\n",
       "        vertical-align: top;\n",
       "    }\n",
       "\n",
       "    .dataframe thead th {\n",
       "        text-align: right;\n",
       "    }\n",
       "</style>\n",
       "<table border=\"1\" class=\"dataframe\">\n",
       "  <thead>\n",
       "    <tr style=\"text-align: right;\">\n",
       "      <th></th>\n",
       "      <th>ProductKey</th>\n",
       "      <th>ProductName</th>\n",
       "    </tr>\n",
       "  </thead>\n",
       "  <tbody>\n",
       "    <tr>\n",
       "      <th>0</th>\n",
       "      <td>214</td>\n",
       "      <td>Sport-100 Helmet, Red</td>\n",
       "    </tr>\n",
       "    <tr>\n",
       "      <th>14901</th>\n",
       "      <td>358</td>\n",
       "      <td>Mountain-200 Black, 38</td>\n",
       "    </tr>\n",
       "    <tr>\n",
       "      <th>16097</th>\n",
       "      <td>362</td>\n",
       "      <td>Mountain-200 Black, 46</td>\n",
       "    </tr>\n",
       "    <tr>\n",
       "      <th>19225</th>\n",
       "      <td>386</td>\n",
       "      <td>Road-550-W Yellow, 42</td>\n",
       "    </tr>\n",
       "    <tr>\n",
       "      <th>38118</th>\n",
       "      <td>486</td>\n",
       "      <td>All-Purpose Bike Stand</td>\n",
       "    </tr>\n",
       "  </tbody>\n",
       "</table>\n",
       "</div>"
      ],
      "text/plain": [
       "       ProductKey             ProductName\n",
       "0             214   Sport-100 Helmet, Red\n",
       "14901         358  Mountain-200 Black, 38\n",
       "16097         362  Mountain-200 Black, 46\n",
       "19225         386   Road-550-W Yellow, 42\n",
       "38118         486  All-Purpose Bike Stand"
      ]
     },
     "execution_count": 39,
     "metadata": {},
     "output_type": "execute_result"
    }
   ],
   "source": [
    "# 🎓 Split data into training and test sets\n",
    "get_items_purchased(11000, product_train, customers_arr, products_arr, lookUp)"
   ]
  },
  {
   "cell_type": "code",
   "execution_count": 40,
   "id": "fcfb25b6",
   "metadata": {},
   "outputs": [
    {
     "data": {
      "text/html": [
       "<div>\n",
       "<style scoped>\n",
       "    .dataframe tbody tr th:only-of-type {\n",
       "        vertical-align: middle;\n",
       "    }\n",
       "\n",
       "    .dataframe tbody tr th {\n",
       "        vertical-align: top;\n",
       "    }\n",
       "\n",
       "    .dataframe thead th {\n",
       "        text-align: right;\n",
       "    }\n",
       "</style>\n",
       "<table border=\"1\" class=\"dataframe\">\n",
       "  <thead>\n",
       "    <tr style=\"text-align: right;\">\n",
       "      <th></th>\n",
       "      <th>StockCode</th>\n",
       "      <th>Description</th>\n",
       "    </tr>\n",
       "  </thead>\n",
       "  <tbody>\n",
       "    <tr>\n",
       "      <th>0</th>\n",
       "      <td>580</td>\n",
       "      <td>Road-350-W Yellow, 40</td>\n",
       "    </tr>\n",
       "    <tr>\n",
       "      <th>1</th>\n",
       "      <td>583</td>\n",
       "      <td>Road-350-W Yellow, 48</td>\n",
       "    </tr>\n",
       "    <tr>\n",
       "      <th>2</th>\n",
       "      <td>538</td>\n",
       "      <td>LL Road Tire</td>\n",
       "    </tr>\n",
       "  </tbody>\n",
       "</table>\n",
       "</div>"
      ],
      "text/plain": [
       "   StockCode            Description\n",
       "0        580  Road-350-W Yellow, 40\n",
       "1        583  Road-350-W Yellow, 48\n",
       "2        538           LL Road Tire"
      ]
     },
     "execution_count": 40,
     "metadata": {},
     "output_type": "execute_result"
    }
   ],
   "source": [
    "# 🎓 Split data into training and test sets\n",
    "rec_items(11000, product_train, user_vecs, item_vecs, customers_arr, products_arr, lookUp,\n",
    "                       num_items = 3)"
   ]
  },
  {
   "cell_type": "code",
   "execution_count": 41,
   "id": "1568ff6b",
   "metadata": {},
   "outputs": [
    {
     "data": {
      "text/html": [
       "<div>\n",
       "<style scoped>\n",
       "    .dataframe tbody tr th:only-of-type {\n",
       "        vertical-align: middle;\n",
       "    }\n",
       "\n",
       "    .dataframe tbody tr th {\n",
       "        vertical-align: top;\n",
       "    }\n",
       "\n",
       "    .dataframe thead th {\n",
       "        text-align: right;\n",
       "    }\n",
       "</style>\n",
       "<table border=\"1\" class=\"dataframe\">\n",
       "  <thead>\n",
       "    <tr style=\"text-align: right;\">\n",
       "      <th></th>\n",
       "      <th>ProductKey</th>\n",
       "      <th>ProductName</th>\n",
       "    </tr>\n",
       "  </thead>\n",
       "  <tbody>\n",
       "    <tr>\n",
       "      <th>11622</th>\n",
       "      <td>314</td>\n",
       "      <td>Road-150 Red, 56</td>\n",
       "    </tr>\n",
       "    <tr>\n",
       "      <th>54837</th>\n",
       "      <td>560</td>\n",
       "      <td>Touring-2000 Blue, 60</td>\n",
       "    </tr>\n",
       "  </tbody>\n",
       "</table>\n",
       "</div>"
      ],
      "text/plain": [
       "       ProductKey            ProductName\n",
       "11622         314       Road-150 Red, 56\n",
       "54837         560  Touring-2000 Blue, 60"
      ]
     },
     "execution_count": 41,
     "metadata": {},
     "output_type": "execute_result"
    }
   ],
   "source": [
    "# 🎓 Split data into training and test sets\n",
    "get_items_purchased(12410, product_train, customers_arr, products_arr, lookUp)"
   ]
  },
  {
   "cell_type": "code",
   "execution_count": 42,
   "id": "5746d6e9",
   "metadata": {
    "scrolled": true
   },
   "outputs": [
    {
     "data": {
      "text/html": [
       "<div>\n",
       "<style scoped>\n",
       "    .dataframe tbody tr th:only-of-type {\n",
       "        vertical-align: middle;\n",
       "    }\n",
       "\n",
       "    .dataframe tbody tr th {\n",
       "        vertical-align: top;\n",
       "    }\n",
       "\n",
       "    .dataframe thead th {\n",
       "        text-align: right;\n",
       "    }\n",
       "</style>\n",
       "<table border=\"1\" class=\"dataframe\">\n",
       "  <thead>\n",
       "    <tr style=\"text-align: right;\">\n",
       "      <th></th>\n",
       "      <th>StockCode</th>\n",
       "      <th>Description</th>\n",
       "    </tr>\n",
       "  </thead>\n",
       "  <tbody>\n",
       "    <tr>\n",
       "      <th>0</th>\n",
       "      <td>599</td>\n",
       "      <td>Mountain-500 Black, 48</td>\n",
       "    </tr>\n",
       "    <tr>\n",
       "      <th>1</th>\n",
       "      <td>586</td>\n",
       "      <td>Touring-3000 Blue, 50</td>\n",
       "    </tr>\n",
       "    <tr>\n",
       "      <th>2</th>\n",
       "      <td>356</td>\n",
       "      <td>Mountain-200 Silver, 46</td>\n",
       "    </tr>\n",
       "  </tbody>\n",
       "</table>\n",
       "</div>"
      ],
      "text/plain": [
       "   StockCode              Description\n",
       "0        599   Mountain-500 Black, 48\n",
       "1        586    Touring-3000 Blue, 50\n",
       "2        356  Mountain-200 Silver, 46"
      ]
     },
     "execution_count": 42,
     "metadata": {},
     "output_type": "execute_result"
    }
   ],
   "source": [
    "# 🎓 Split data into training and test sets\n",
    "rec_items(12410, product_train, user_vecs, item_vecs, customers_arr, products_arr, lookUp,\n",
    "                       num_items = 3)"
   ]
  },
  {
   "cell_type": "code",
   "execution_count": 43,
   "id": "20cd94fd",
   "metadata": {
    "scrolled": false
   },
   "outputs": [
    {
     "data": {
      "text/html": [
       "<div>\n",
       "<style scoped>\n",
       "    .dataframe tbody tr th:only-of-type {\n",
       "        vertical-align: middle;\n",
       "    }\n",
       "\n",
       "    .dataframe tbody tr th {\n",
       "        vertical-align: top;\n",
       "    }\n",
       "\n",
       "    .dataframe thead th {\n",
       "        text-align: right;\n",
       "    }\n",
       "</style>\n",
       "<table border=\"1\" class=\"dataframe\">\n",
       "  <thead>\n",
       "    <tr style=\"text-align: right;\">\n",
       "      <th></th>\n",
       "      <th>ProductKey</th>\n",
       "      <th>ProductName</th>\n",
       "    </tr>\n",
       "  </thead>\n",
       "  <tbody>\n",
       "    <tr>\n",
       "      <th>0</th>\n",
       "      <td>214</td>\n",
       "      <td>Sport-100 Helmet, Red</td>\n",
       "    </tr>\n",
       "    <tr>\n",
       "      <th>16097</th>\n",
       "      <td>362</td>\n",
       "      <td>Mountain-200 Black, 46</td>\n",
       "    </tr>\n",
       "    <tr>\n",
       "      <th>55881</th>\n",
       "      <td>571</td>\n",
       "      <td>Touring-3000 Yellow, 58</td>\n",
       "    </tr>\n",
       "  </tbody>\n",
       "</table>\n",
       "</div>"
      ],
      "text/plain": [
       "       ProductKey              ProductName\n",
       "0             214    Sport-100 Helmet, Red\n",
       "16097         362   Mountain-200 Black, 46\n",
       "55881         571  Touring-3000 Yellow, 58"
      ]
     },
     "execution_count": 43,
     "metadata": {},
     "output_type": "execute_result"
    }
   ],
   "source": [
    "# 🎓 Split data into training and test sets\n",
    "get_items_purchased(18479, product_train, customers_arr, products_arr, lookUp)"
   ]
  },
  {
   "cell_type": "code",
   "execution_count": 44,
   "id": "4c4c1527",
   "metadata": {
    "scrolled": false
   },
   "outputs": [
    {
     "data": {
      "text/html": [
       "<div>\n",
       "<style scoped>\n",
       "    .dataframe tbody tr th:only-of-type {\n",
       "        vertical-align: middle;\n",
       "    }\n",
       "\n",
       "    .dataframe tbody tr th {\n",
       "        vertical-align: top;\n",
       "    }\n",
       "\n",
       "    .dataframe thead th {\n",
       "        text-align: right;\n",
       "    }\n",
       "</style>\n",
       "<table border=\"1\" class=\"dataframe\">\n",
       "  <thead>\n",
       "    <tr style=\"text-align: right;\">\n",
       "      <th></th>\n",
       "      <th>StockCode</th>\n",
       "      <th>Description</th>\n",
       "    </tr>\n",
       "  </thead>\n",
       "  <tbody>\n",
       "    <tr>\n",
       "      <th>0</th>\n",
       "      <td>484</td>\n",
       "      <td>Bike Wash - Dissolver</td>\n",
       "    </tr>\n",
       "    <tr>\n",
       "      <th>1</th>\n",
       "      <td>560</td>\n",
       "      <td>Touring-2000 Blue, 60</td>\n",
       "    </tr>\n",
       "    <tr>\n",
       "      <th>2</th>\n",
       "      <td>487</td>\n",
       "      <td>Hydration Pack - 70 oz.</td>\n",
       "    </tr>\n",
       "  </tbody>\n",
       "</table>\n",
       "</div>"
      ],
      "text/plain": [
       "   StockCode              Description\n",
       "0        484    Bike Wash - Dissolver\n",
       "1        560    Touring-2000 Blue, 60\n",
       "2        487  Hydration Pack - 70 oz."
      ]
     },
     "execution_count": 44,
     "metadata": {},
     "output_type": "execute_result"
    }
   ],
   "source": [
    "# 🎓 Split data into training and test sets\n",
    "rec_items(18479, product_train, user_vecs, item_vecs, customers_arr, products_arr, lookUp,\n",
    "                       num_items = 3)"
   ]
  },
  {
   "cell_type": "code",
   "execution_count": null,
   "id": "6f9a024b",
   "metadata": {},
   "outputs": [],
   "source": [
    "# ➕ Code block\n"
   ]
  }
 ],
 "metadata": {
  "kernelspec": {
   "display_name": "Python 3 (ipykernel)",
   "language": "python",
   "name": "python3"
  },
  "language_info": {
   "codemirror_mode": {
    "name": "ipython",
    "version": 3
   },
   "file_extension": ".py",
   "mimetype": "text/x-python",
   "name": "python",
   "nbconvert_exporter": "python",
   "pygments_lexer": "ipython3",
   "version": "3.8.8"
  }
 },
 "nbformat": 4,
 "nbformat_minor": 5
}
